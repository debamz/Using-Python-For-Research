{
 "cells": [
  {
   "cell_type": "markdown",
   "metadata": {},
   "source": [
    "# Introduction\n",
    "This is a  project that  demonstrates how to predict  types of physical activity which includes: walking, climbing stairs from tri-axial smartphone accelerometer data using supervised machine learning. It's been said that Smartphone accelerometers are very precise, and that different physical activities give rise to unique patterns of acceleration."
   ]
  },
  {
   "cell_type": "markdown",
   "metadata": {},
   "source": [
    "## Input Data\n",
    "\n",
    "The input data used for training in this project consists of two files.\n",
    "\n",
    "The first file, train_time_series.csv, contains the raw accelerometer data, which has been collected using the Beiwe research platform, and it has the following format:\n",
    "\n",
    "timestamp, UTC time, accuracy, x, y, z\n",
    "\n",
    "The time series signals are sampled at 10 Hz (0.1 seconds per sample) and contains total 3744 samples and 3 components. timestamp column is the time variable. The last three columns labeled x, y, and z correspond to measurements of linear acceleration along each of the three orthogonal axes.\n",
    "\n",
    "The second file, train_labels.csv, contains the activity labels. Different activities have been encoded with integers as follows:\n",
    "\n",
    "1 = standing,\n",
    "2 = walking,\n",
    "3 = stairs down,\n",
    "4 = stairs up.\n",
    "The activity labels are sampled at 1 Hz (1 second per sample) and contains 375 samples. Because the accelerometers are sampled at high frequency, the labels in train_labels.csv are only provided for every 10th observation in train_time_series.csv."
   ]
  },
  {
   "cell_type": "markdown",
   "metadata": {},
   "source": [
    "# Method\n",
    "\n",
    "1 I Loaded the accelerometer data\n",
    "\n",
    "2 Exploratory Data Analysis\n",
    "In this section, I carried out:\n",
    "\n",
    "An initial exploration and data cleansing along the road.\n",
    "\n",
    "3 Data Visualization.\n",
    "\n",
    "4 Feature Engineering\n",
    "\n",
    "\n",
    "5 Built classification models\n",
    "\n",
    "Preparation of the datasets.\n",
    "\n",
    "Splitting of our train time series into train and test sets for evaluating different models.\n",
    "\n",
    "Choice of the right metric.\n",
    "\n",
    "Test of the random forest classifier from the scikit-learn package:\n",
    "\n",
    "Random Forest Classifier\n",
    "\n",
    "6 Validation\n",
    "We'll use the best model selected in the section to perform predictions of the activity classes in our test time series.\n",
    "\n",
    "Time it!\n",
    "Here, we will rerun our code but with a timer to determine the runtime. The code will include:\n",
    "\n",
    "Loading the data,\n",
    "\n",
    "Preprocessing the data,\n",
    "\n",
    "Fitting and evaluating the model,\n",
    "\n",
    "Validating with predictions of the activity classes in our test time series."
   ]
  },
  {
   "cell_type": "markdown",
   "metadata": {},
   "source": [
    "# Result\n",
    "A model trained on Random Forest Classifier gives highest accuracy eventually of 70% on the  dataset."
   ]
  },
  {
   "cell_type": "markdown",
   "metadata": {},
   "source": [
    "## Python Implementation\n",
    "Import Modules"
   ]
  },
  {
   "cell_type": "code",
   "execution_count": 1,
   "metadata": {},
   "outputs": [],
   "source": [
    "import numpy as np\n",
    "import pandas as pd\n",
    "import scipy.io as sio\n",
    "import scipy.stats\n",
    "import math\n",
    "#from siml.sk_utils import*\n",
    "#from siml.signal_analysis_utils import *\n",
    "#import sensormotion as sm\n",
    "from scipy.fftpack import fft\n",
    "from scipy.signal import welch\n",
    "from numpy import savetxt\n",
    "from IPython.display import display\n",
    "import matplotlib.pyplot as plt\n",
    "%matplotlib inline\n",
    "from scipy.signal import find_peaks\n",
    "from detecta import detect_peaks\n",
    "import pywt\n",
    "import time\n",
    "import datetime as dt\n",
    "from collections import defaultdict, Counter\n",
    "\n",
    "from sklearn.ensemble import GradientBoostingClassifier, RandomForestClassifier, AdaBoostClassifier\n",
    "from sklearn.linear_model import LogisticRegression\n",
    "from sklearn.neighbors import KNeighborsClassifier\n",
    "from sklearn.tree import DecisionTreeClassifier\n",
    "from sklearn.svm import SVC\n",
    "from sklearn.neural_network import MLPClassifier\n",
    "from sklearn.naive_bayes import GaussianNB\n",
    "from sklearn.gaussian_process import GaussianProcessClassifier\n",
    "from sklearn.model_selection import TimeSeriesSplit, GridSearchCV\n",
    "from sklearn.metrics import accuracy_score, confusion_matrix,classification_report\n",
    "from sklearn.model_selection import cross_val_score, GridSearchCV, RandomizedSearchCV, train_test_split\n",
    "from sklearn.metrics import f1_score, confusion_matrix, ConfusionMatrixDisplay, plot_confusion_matrix\n",
    "import warnings\n",
    "warnings.filterwarnings(\"ignore\")\n",
    "import numpy as np\n",
    "import time\n",
    "from sklearn.model_selection import cross_val_score\n",
    "from sklearn.linear_model import LinearRegression\n",
    "from sklearn.linear_model import LogisticRegression\n",
    "from sklearn.ensemble import RandomForestRegressor\n",
    "from sklearn.ensemble import RandomForestClassifier\n",
    "from sklearn.metrics import accuracy_score\n",
    "from sklearn.metrics import r2_score\n",
    "from sklearn.svm import SVC \n",
    "from sklearn.neighbors import KNeighborsClassifier\n",
    "from sklearn.naive_bayes import GaussianNB\n",
    "from timeit import default_timer\n",
    "import matplotlib.pyplot as plt"
   ]
  },
  {
   "cell_type": "markdown",
   "metadata": {},
   "source": [
    "# Set the timer"
   ]
  },
  {
   "cell_type": "code",
   "execution_count": 2,
   "metadata": {},
   "outputs": [],
   "source": [
    "\n",
    "st = default_timer()"
   ]
  },
  {
   "cell_type": "markdown",
   "metadata": {},
   "source": [
    "# Loading the accelerometer data"
   ]
  },
  {
   "cell_type": "code",
   "execution_count": 42,
   "metadata": {},
   "outputs": [
    {
     "name": "stdout",
     "output_type": "stream",
     "text": [
      "Shape of time series signals data: (3744, 6)\n",
      "Shape of labels data: (375, 3)\n",
      "Shape of time series signals data: (1250, 6)\n",
      "Shape of labels data: (125, 3)\n"
     ]
    }
   ],
   "source": [
    "train_ts = pd.read_csv(r\"C:\\Users\\AYOOLUWA\\Downloads\\train_time_series.csv\", index_col=0)\n",
    "train_labels = pd.read_csv(r\"C:\\Users\\AYOOLUWA\\Downloads\\train_labels.csv\", index_col=0)\n",
    "test_ts = pd.read_csv(r\"C:\\Users\\AYOOLUWA\\Downloads\\test_time_series.csv\", index_col=0)\n",
    "test_labels = pd.read_csv(r\"C:\\Users\\AYOOLUWA\\Downloads\\test_labels.csv\", index_col=0)\n",
    "print(\"Shape of time series signals data:\", train_ts.shape)\n",
    "print(\"Shape of labels data:\", train_labels.shape)\n",
    "print(\"Shape of time series signals data:\", test_ts.shape)\n",
    "print(\"Shape of labels data:\", test_labels.shape)"
   ]
  },
  {
   "cell_type": "code",
   "execution_count": 4,
   "metadata": {},
   "outputs": [
    {
     "name": "stdout",
     "output_type": "stream",
     "text": [
      "train_ts head: \n",
      "           timestamp                 UTC time accuracy         x         y  \\\n",
      "20586  1565109930787  2019-08-06T16:45:30.787  unknown -0.006485 -0.934860   \n",
      "20587  1565109930887  2019-08-06T16:45:30.887  unknown -0.066467 -1.015442   \n",
      "20588  1565109930987  2019-08-06T16:45:30.987  unknown -0.043488 -1.021255   \n",
      "20589  1565109931087  2019-08-06T16:45:31.087  unknown -0.053802 -0.987701   \n",
      "20590  1565109931188  2019-08-06T16:45:31.188  unknown -0.054031 -1.003616   \n",
      "\n",
      "              z  \n",
      "20586 -0.069046  \n",
      "20587  0.089554  \n",
      "20588  0.178467  \n",
      "20589  0.068985  \n",
      "20590  0.126450   \n",
      "\n",
      "train_labels head: \n",
      "           timestamp                 UTC time  label\n",
      "20589  1565109931087  2019-08-06T16:45:31.087      1\n",
      "20599  1565109932090  2019-08-06T16:45:32.090      1\n",
      "20609  1565109933092  2019-08-06T16:45:33.092      1\n",
      "20619  1565109934094  2019-08-06T16:45:34.094      1\n",
      "20629  1565109935097  2019-08-06T16:45:35.097      1 \n",
      "\n",
      "test_ts head: \n",
      "           timestamp                 UTC time accuracy         x         y  \\\n",
      "24330  1565110306139  2019-08-06T16:51:46.139  unknown  0.034286 -1.504456   \n",
      "24331  1565110306239  2019-08-06T16:51:46.239  unknown  0.409164 -1.038544   \n",
      "24332  1565110306340  2019-08-06T16:51:46.340  unknown -0.234390 -0.984558   \n",
      "24333  1565110306440  2019-08-06T16:51:46.440  unknown  0.251114 -0.787003   \n",
      "24334  1565110306540  2019-08-06T16:51:46.540  unknown  0.109924 -0.169510   \n",
      "\n",
      "              z  \n",
      "24330  0.157623  \n",
      "24331  0.030975  \n",
      "24332  0.124771  \n",
      "24333  0.054810  \n",
      "24334  0.235550   \n",
      "\n",
      "test_labels head: \n",
      "           timestamp                 UTC time  label\n",
      "24339  1565110307041  2019-08-06T16:51:47.041    NaN\n",
      "24349  1565110308043  2019-08-06T16:51:48.043    NaN\n",
      "24359  1565110309046  2019-08-06T16:51:49.046    NaN\n",
      "24369  1565110310048  2019-08-06T16:51:50.048    NaN\n",
      "24379  1565110311050  2019-08-06T16:51:51.050    NaN \n",
      "\n"
     ]
    }
   ],
   "source": [
    "print(\"train_ts head: \\n%s\" % train_ts.head(), \"\\n\")\n",
    "print(\"train_labels head: \\n%s\" % train_labels.head(), \"\\n\")\n",
    "print(\"test_ts head: \\n%s\" % test_ts.head(), \"\\n\")\n",
    "print(\"test_labels head: \\n%s\" %test_labels.head(), \"\\n\")"
   ]
  },
  {
   "cell_type": "markdown",
   "metadata": {},
   "source": [
    "# Preprocessing"
   ]
  },
  {
   "cell_type": "code",
   "execution_count": 5,
   "metadata": {},
   "outputs": [],
   "source": [
    "# Drop \"accuracy\" column.\n",
    "for data in [train_ts, test_ts]:\n",
    "    data.drop(\"accuracy\", axis = 1, inplace = True)\n",
    "    \n",
    "# Drop \"UTC time\" column.\n",
    "for data in [train_ts, train_labels, test_ts, test_labels]:\n",
    "    data.drop(\"UTC time\", axis = 1, inplace = True)\n",
    "    data.reset_index(drop = True, inplace = True)"
   ]
  },
  {
   "cell_type": "code",
   "execution_count": 6,
   "metadata": {},
   "outputs": [
    {
     "name": "stdout",
     "output_type": "stream",
     "text": [
      "train_ts head: \n",
      "       timestamp         x         y         z\n",
      "0  1565109930787 -0.006485 -0.934860 -0.069046\n",
      "1  1565109930887 -0.066467 -1.015442  0.089554\n",
      "2  1565109930987 -0.043488 -1.021255  0.178467\n",
      "3  1565109931087 -0.053802 -0.987701  0.068985\n",
      "4  1565109931188 -0.054031 -1.003616  0.126450 \n",
      "\n",
      "train_labels head: \n",
      "       timestamp  label\n",
      "0  1565109931087      1\n",
      "1  1565109932090      1\n",
      "2  1565109933092      1\n",
      "3  1565109934094      1\n",
      "4  1565109935097      1 \n",
      "\n",
      "test_ts head: \n",
      "       timestamp         x         y         z\n",
      "0  1565110306139  0.034286 -1.504456  0.157623\n",
      "1  1565110306239  0.409164 -1.038544  0.030975\n",
      "2  1565110306340 -0.234390 -0.984558  0.124771\n",
      "3  1565110306440  0.251114 -0.787003  0.054810\n",
      "4  1565110306540  0.109924 -0.169510  0.235550 \n",
      "\n",
      "test_labels head: \n",
      "       timestamp  label\n",
      "0  1565110307041    NaN\n",
      "1  1565110308043    NaN\n",
      "2  1565110309046    NaN\n",
      "3  1565110310048    NaN\n",
      "4  1565110311050    NaN \n",
      "\n"
     ]
    }
   ],
   "source": [
    "print(\"train_ts head: \\n%s\" % train_ts.head(), \"\\n\")\n",
    "print(\"train_labels head: \\n%s\" % train_labels.head(), \"\\n\")\n",
    "print(\"test_ts head: \\n%s\" % test_ts.head(), \"\\n\")\n",
    "print(\"test_labels head: \\n%s\" % test_labels.head(), \"\\n\")"
   ]
  },
  {
   "cell_type": "code",
   "execution_count": 7,
   "metadata": {},
   "outputs": [],
   "source": [
    "# Create a single dataset for training.\n",
    "df_train = train_ts.merge(train_labels, how = \"left\", left_on = \"timestamp\", right_on = \"timestamp\")\n",
    "\n",
    "# Create a single dataset for test.\n",
    "df_test = test_ts.merge(test_labels, how = \"left\", left_on = \"timestamp\", right_on = \"timestamp\")"
   ]
  },
  {
   "cell_type": "code",
   "execution_count": 8,
   "metadata": {},
   "outputs": [
    {
     "name": "stdout",
     "output_type": "stream",
     "text": [
      "df_train: \n",
      "          timestamp         x         y         z  label\n",
      "0     1565109930787 -0.006485 -0.934860 -0.069046    NaN\n",
      "1     1565109930887 -0.066467 -1.015442  0.089554    NaN\n",
      "2     1565109930987 -0.043488 -1.021255  0.178467    NaN\n",
      "3     1565109931087 -0.053802 -0.987701  0.068985    1.0\n",
      "4     1565109931188 -0.054031 -1.003616  0.126450    NaN\n",
      "...             ...       ...       ...       ...    ...\n",
      "3739  1565110305638  0.024384 -0.710709  0.030304    NaN\n",
      "3740  1565110305738  0.487228 -1.099136 -0.015213    NaN\n",
      "3741  1565110305838  0.369446 -0.968506  0.036713    NaN\n",
      "3742  1565110305939  0.167877 -0.802826  0.049805    NaN\n",
      "3743  1565110306039  0.689346 -0.991043  0.034973    4.0\n",
      "\n",
      "[3744 rows x 5 columns] \n",
      "\n",
      "df_test: \n",
      "          timestamp         x         y         z  label\n",
      "0     1565110306139  0.034286 -1.504456  0.157623    NaN\n",
      "1     1565110306239  0.409164 -1.038544  0.030975    NaN\n",
      "2     1565110306340 -0.234390 -0.984558  0.124771    NaN\n",
      "3     1565110306440  0.251114 -0.787003  0.054810    NaN\n",
      "4     1565110306540  0.109924 -0.169510  0.235550    NaN\n",
      "...             ...       ...       ...       ...    ...\n",
      "1245  1565110430975  0.036499 -0.724823  0.553802    NaN\n",
      "1246  1565110431075 -0.159241  0.307022  0.142410    NaN\n",
      "1247  1565110431175 -0.037964 -0.673706  1.065445    NaN\n",
      "1248  1565110431275  0.255707 -1.485397 -0.013336    NaN\n",
      "1249  1565110431376 -0.089462 -0.734573 -0.100876    NaN\n",
      "\n",
      "[1250 rows x 5 columns]\n"
     ]
    }
   ],
   "source": [
    "print(\"df_train: \\n%s\" % df_train, \"\\n\")\n",
    "print(\"df_test: \\n%s\" % df_test)"
   ]
  },
  {
   "cell_type": "code",
   "execution_count": 9,
   "metadata": {},
   "outputs": [
    {
     "data": {
      "text/html": [
       "<div>\n",
       "<style scoped>\n",
       "    .dataframe tbody tr th:only-of-type {\n",
       "        vertical-align: middle;\n",
       "    }\n",
       "\n",
       "    .dataframe tbody tr th {\n",
       "        vertical-align: top;\n",
       "    }\n",
       "\n",
       "    .dataframe thead th {\n",
       "        text-align: right;\n",
       "    }\n",
       "</style>\n",
       "<table border=\"1\" class=\"dataframe\">\n",
       "  <thead>\n",
       "    <tr style=\"text-align: right;\">\n",
       "      <th></th>\n",
       "      <th>timestamp</th>\n",
       "      <th>x</th>\n",
       "      <th>y</th>\n",
       "      <th>z</th>\n",
       "      <th>label</th>\n",
       "    </tr>\n",
       "  </thead>\n",
       "  <tbody>\n",
       "    <tr>\n",
       "      <th>0</th>\n",
       "      <td>1565109930787</td>\n",
       "      <td>-0.006485</td>\n",
       "      <td>-0.934860</td>\n",
       "      <td>-0.069046</td>\n",
       "      <td>NaN</td>\n",
       "    </tr>\n",
       "    <tr>\n",
       "      <th>1</th>\n",
       "      <td>1565109930887</td>\n",
       "      <td>-0.066467</td>\n",
       "      <td>-1.015442</td>\n",
       "      <td>0.089554</td>\n",
       "      <td>NaN</td>\n",
       "    </tr>\n",
       "    <tr>\n",
       "      <th>2</th>\n",
       "      <td>1565109930987</td>\n",
       "      <td>-0.043488</td>\n",
       "      <td>-1.021255</td>\n",
       "      <td>0.178467</td>\n",
       "      <td>NaN</td>\n",
       "    </tr>\n",
       "    <tr>\n",
       "      <th>3</th>\n",
       "      <td>1565109931087</td>\n",
       "      <td>-0.053802</td>\n",
       "      <td>-0.987701</td>\n",
       "      <td>0.068985</td>\n",
       "      <td>1.0</td>\n",
       "    </tr>\n",
       "    <tr>\n",
       "      <th>4</th>\n",
       "      <td>1565109931188</td>\n",
       "      <td>-0.054031</td>\n",
       "      <td>-1.003616</td>\n",
       "      <td>0.126450</td>\n",
       "      <td>NaN</td>\n",
       "    </tr>\n",
       "    <tr>\n",
       "      <th>...</th>\n",
       "      <td>...</td>\n",
       "      <td>...</td>\n",
       "      <td>...</td>\n",
       "      <td>...</td>\n",
       "      <td>...</td>\n",
       "    </tr>\n",
       "    <tr>\n",
       "      <th>4989</th>\n",
       "      <td>1565110430975</td>\n",
       "      <td>0.036499</td>\n",
       "      <td>-0.724823</td>\n",
       "      <td>0.553802</td>\n",
       "      <td>NaN</td>\n",
       "    </tr>\n",
       "    <tr>\n",
       "      <th>4990</th>\n",
       "      <td>1565110431075</td>\n",
       "      <td>-0.159241</td>\n",
       "      <td>0.307022</td>\n",
       "      <td>0.142410</td>\n",
       "      <td>NaN</td>\n",
       "    </tr>\n",
       "    <tr>\n",
       "      <th>4991</th>\n",
       "      <td>1565110431175</td>\n",
       "      <td>-0.037964</td>\n",
       "      <td>-0.673706</td>\n",
       "      <td>1.065445</td>\n",
       "      <td>NaN</td>\n",
       "    </tr>\n",
       "    <tr>\n",
       "      <th>4992</th>\n",
       "      <td>1565110431275</td>\n",
       "      <td>0.255707</td>\n",
       "      <td>-1.485397</td>\n",
       "      <td>-0.013336</td>\n",
       "      <td>NaN</td>\n",
       "    </tr>\n",
       "    <tr>\n",
       "      <th>4993</th>\n",
       "      <td>1565110431376</td>\n",
       "      <td>-0.089462</td>\n",
       "      <td>-0.734573</td>\n",
       "      <td>-0.100876</td>\n",
       "      <td>NaN</td>\n",
       "    </tr>\n",
       "  </tbody>\n",
       "</table>\n",
       "<p>4994 rows × 5 columns</p>\n",
       "</div>"
      ],
      "text/plain": [
       "          timestamp         x         y         z  label\n",
       "0     1565109930787 -0.006485 -0.934860 -0.069046    NaN\n",
       "1     1565109930887 -0.066467 -1.015442  0.089554    NaN\n",
       "2     1565109930987 -0.043488 -1.021255  0.178467    NaN\n",
       "3     1565109931087 -0.053802 -0.987701  0.068985    1.0\n",
       "4     1565109931188 -0.054031 -1.003616  0.126450    NaN\n",
       "...             ...       ...       ...       ...    ...\n",
       "4989  1565110430975  0.036499 -0.724823  0.553802    NaN\n",
       "4990  1565110431075 -0.159241  0.307022  0.142410    NaN\n",
       "4991  1565110431175 -0.037964 -0.673706  1.065445    NaN\n",
       "4992  1565110431275  0.255707 -1.485397 -0.013336    NaN\n",
       "4993  1565110431376 -0.089462 -0.734573 -0.100876    NaN\n",
       "\n",
       "[4994 rows x 5 columns]"
      ]
     },
     "execution_count": 9,
     "metadata": {},
     "output_type": "execute_result"
    }
   ],
   "source": [
    "# Create a single dataframe for the time series. This will help for data vizualisation. \n",
    "df = pd.concat([df_train, df_test], ignore_index = True)\n",
    "\n",
    "df"
   ]
  },
  {
   "cell_type": "code",
   "execution_count": 10,
   "metadata": {},
   "outputs": [
    {
     "name": "stdout",
     "output_type": "stream",
     "text": [
      "df duplicated rows: False\n"
     ]
    }
   ],
   "source": [
    "# Check for duplicated rows.\n",
    "print(\"df duplicated rows:\", any(df[\"timestamp\"].duplicated()))\n"
   ]
  },
  {
   "cell_type": "code",
   "execution_count": 11,
   "metadata": {},
   "outputs": [
    {
     "name": "stdout",
     "output_type": "stream",
     "text": [
      "df types: \n",
      "timestamp      int64\n",
      "x            float64\n",
      "y            float64\n",
      "z            float64\n",
      "label        float64\n",
      "dtype: object\n"
     ]
    }
   ],
   "source": [
    "# Check the data types, whether the types are matcing the contents.\n",
    "print(\"df types: \\n%s\" % df.dtypes)"
   ]
  },
  {
   "cell_type": "code",
   "execution_count": 12,
   "metadata": {},
   "outputs": [
    {
     "name": "stdout",
     "output_type": "stream",
     "text": [
      "Duration of df time series: 0:08:20.589000\n",
      "Duration in seconds and milliseconds: 500 seconds and 589 milliseconds\n"
     ]
    }
   ],
   "source": [
    "# Check for lengths or durations of our time series. \n",
    "datetimeFormat = \"%H:%M:%S.%f\"\n",
    "time_max = pd.datetime.fromtimestamp(df[\"timestamp\"].max() / 1000).strftime(\"%H:%M:%S.%f\")\n",
    "time_min = pd.datetime.fromtimestamp(df[\"timestamp\"].min() / 1000).strftime(\"%H:%M:%S.%f\")\n",
    "diff = pd.datetime.strptime(time_max, datetimeFormat) - pd.datetime.strptime(time_min, datetimeFormat)\n",
    "\n",
    "print(\"Duration of df time series:\", diff)\n",
    "print(\"Duration in seconds and milliseconds:\", \"%d seconds\" % diff.seconds, \"and %d milliseconds\" % int(diff.microseconds/1000))"
   ]
  },
  {
   "cell_type": "code",
   "execution_count": 13,
   "metadata": {},
   "outputs": [],
   "source": [
    "#Data visualization"
   ]
  },
  {
   "cell_type": "code",
   "execution_count": 14,
   "metadata": {},
   "outputs": [
    {
     "data": {
      "image/png": "[encoded data removed]",
      "text/plain": [
       "<Figure size 432x288 with 6 Axes>"
      ]
     },
     "metadata": {
      "needs_background": "light"
     },
     "output_type": "display_data"
    }
   ],
   "source": [
    "# Display of x-y-z signals against labels or activities.\n",
    "\n",
    "fig, (ax1, ax2, ax3) = plt.subplots(3)\n",
    "\n",
    "# Plot x signal \n",
    "ax1.plot(df[\"x\"])\n",
    "ax1.grid(True)\n",
    "ax1.set_ylim((-1.5, 2.5))\n",
    "ax1.set_ylabel(\"$x$\")\n",
    "ax1.set_title(\"df time series $x$ values and labels\")\n",
    "\n",
    "ax11 = ax1.twinx()  # instantiate a second axis that shares the same x-axis\n",
    "ax11.set_ylim((0.5, 4.5))\n",
    "ax11.set_ylabel(\"labels\", color = \"red\")\n",
    "ax11.plot(df[\"label\"], color = \"red\", marker = \".\")\n",
    "ax11.tick_params(axis = \"y\", labelcolor = \"red\")\n",
    "fig.tight_layout()  \n",
    "\n",
    "# Plot y signal\n",
    "ax2.plot(df[\"y\"])\n",
    "ax2.grid(True)\n",
    "ax2.set_ylim((-3.5, 0.5))\n",
    "ax2.set_ylabel(\"$y$\")\n",
    "ax2.set_title(\"df time series $y$ values and labels\")\n",
    "\n",
    "ax21 = ax2.twinx()  # instantiate a second axis that shares the same x-axis\n",
    "ax21.set_ylim((0.5, 4.5))\n",
    "ax21.set_ylabel(\"labels\", color = \"red\")\n",
    "ax21.plot(df[\"label\"], color = \"red\", marker = \".\")\n",
    "ax21.tick_params(axis = \"y\", labelcolor = \"red\")\n",
    "fig.tight_layout()  \n",
    "\n",
    "# Plot z signal\n",
    "ax3.plot(df[\"z\"])\n",
    "ax3.grid(True)\n",
    "ax3.set_ylim((-1.5, 2.5))\n",
    "ax3.set_ylabel(\"$z$\")\n",
    "ax3.set_title(\"df time series $z$ values and labels\")\n",
    "\n",
    "ax31 = ax3.twinx()  # instantiate a second axis that shares the same x-axis\n",
    "ax31.set_ylim((0.5, 4.5))\n",
    "ax31.set_ylabel(\"labels\", color = \"red\")\n",
    "ax31.plot(df[\"label\"], color = \"red\", marker = \".\")\n",
    "ax31.tick_params(axis = \"y\", labelcolor = \"red\")\n",
    "fig.tight_layout()  \n",
    "\n",
    "plt.subplots_adjust(hspace = 0.5)\n"
   ]
  },
  {
   "cell_type": "markdown",
   "metadata": {},
   "source": [
    "# Feature Engineering"
   ]
  },
  {
   "cell_type": "code",
   "execution_count": 15,
   "metadata": {},
   "outputs": [],
   "source": [
    "#Feature Engineering"
   ]
  },
  {
   "cell_type": "code",
   "execution_count": 16,
   "metadata": {},
   "outputs": [],
   "source": [
    "# Making a copy of df to avoid back and forth as I progress.\n",
    "df_eng = df.copy()"
   ]
  },
  {
   "cell_type": "code",
   "execution_count": 17,
   "metadata": {},
   "outputs": [],
   "source": [
    "# Rolling averages\n",
    "df_eng[\"x_mean\"] = df_eng[\"x\"][4:].rolling(window = 5).mean() # start at the 4th row to synchronize with labelling\n",
    "df_eng[\"y_mean\"] = (df_eng[\"y\"][4:]+1).rolling(window = 5).mean() # offset removed for y signal\n",
    "df_eng[\"z_mean\"] = df_eng[\"z\"][4:].rolling(window = 5).mean()\n",
    "\n",
    "# Rolling standard deviations\n",
    "df_eng[\"x_sd\"] = df_eng[\"x\"][4:].rolling(window = 5).std()\n",
    "df_eng[\"y_sd\"] = (df_eng[\"y\"][4:]+1).rolling(window = 5).std() \n",
    "df_eng[\"z_sd\"] = df_eng[\"z\"][4:].rolling(window = 5).std()\n",
    "\n",
    "# 3D-amplitude rolling averages\n",
    "df_eng[\"magnitude\"] = np.sqrt(df_eng[\"x\"]**2 + (df_eng[\"y\"]+1)**2 + df_eng[\"z\"]**2) \n",
    "df_eng[\"m_mean\"] = df_eng[\"magnitude\"][4:].rolling(window = 5).mean()\n",
    "\n",
    "# 3D-amplitude rolling standard deviations\n",
    "df_eng[\"m_sd\"] = df_eng[\"magnitude\"][4:].rolling(window = 5).std()\n",
    "\n",
    "# Energy which is related to the frequency of the signal according to the Parseval's theorem\n",
    "df_eng[\"x_E\"] = (df_eng[\"x\"][4:]**2).rolling(window = 5).sum()\n",
    "df_eng[\"y_E\"] = ((df_eng[\"y\"][4:]+1)**2).rolling(window = 5).sum() \n",
    "df_eng[\"z_E\"] = (df_eng[\"z\"][4:]**2).rolling(window = 5).sum()"
   ]
  },
  {
   "cell_type": "code",
   "execution_count": 18,
   "metadata": {},
   "outputs": [
    {
     "data": {
      "text/html": [
       "<div>\n",
       "<style scoped>\n",
       "    .dataframe tbody tr th:only-of-type {\n",
       "        vertical-align: middle;\n",
       "    }\n",
       "\n",
       "    .dataframe tbody tr th {\n",
       "        vertical-align: top;\n",
       "    }\n",
       "\n",
       "    .dataframe thead th {\n",
       "        text-align: right;\n",
       "    }\n",
       "</style>\n",
       "<table border=\"1\" class=\"dataframe\">\n",
       "  <thead>\n",
       "    <tr style=\"text-align: right;\">\n",
       "      <th></th>\n",
       "      <th>timestamp</th>\n",
       "      <th>x</th>\n",
       "      <th>y</th>\n",
       "      <th>z</th>\n",
       "      <th>label</th>\n",
       "      <th>x_mean</th>\n",
       "      <th>y_mean</th>\n",
       "      <th>z_mean</th>\n",
       "      <th>x_sd</th>\n",
       "      <th>y_sd</th>\n",
       "      <th>z_sd</th>\n",
       "      <th>magnitude</th>\n",
       "      <th>m_mean</th>\n",
       "      <th>m_sd</th>\n",
       "      <th>x_E</th>\n",
       "      <th>y_E</th>\n",
       "      <th>z_E</th>\n",
       "    </tr>\n",
       "  </thead>\n",
       "  <tbody>\n",
       "    <tr>\n",
       "      <th>0</th>\n",
       "      <td>1565109930787</td>\n",
       "      <td>-0.006485</td>\n",
       "      <td>-0.934860</td>\n",
       "      <td>-0.069046</td>\n",
       "      <td>NaN</td>\n",
       "      <td>NaN</td>\n",
       "      <td>NaN</td>\n",
       "      <td>NaN</td>\n",
       "      <td>NaN</td>\n",
       "      <td>NaN</td>\n",
       "      <td>NaN</td>\n",
       "      <td>0.095145</td>\n",
       "      <td>NaN</td>\n",
       "      <td>NaN</td>\n",
       "      <td>NaN</td>\n",
       "      <td>NaN</td>\n",
       "      <td>NaN</td>\n",
       "    </tr>\n",
       "    <tr>\n",
       "      <th>1</th>\n",
       "      <td>1565109930887</td>\n",
       "      <td>-0.066467</td>\n",
       "      <td>-1.015442</td>\n",
       "      <td>0.089554</td>\n",
       "      <td>NaN</td>\n",
       "      <td>NaN</td>\n",
       "      <td>NaN</td>\n",
       "      <td>NaN</td>\n",
       "      <td>NaN</td>\n",
       "      <td>NaN</td>\n",
       "      <td>NaN</td>\n",
       "      <td>0.112589</td>\n",
       "      <td>NaN</td>\n",
       "      <td>NaN</td>\n",
       "      <td>NaN</td>\n",
       "      <td>NaN</td>\n",
       "      <td>NaN</td>\n",
       "    </tr>\n",
       "    <tr>\n",
       "      <th>2</th>\n",
       "      <td>1565109930987</td>\n",
       "      <td>-0.043488</td>\n",
       "      <td>-1.021255</td>\n",
       "      <td>0.178467</td>\n",
       "      <td>NaN</td>\n",
       "      <td>NaN</td>\n",
       "      <td>NaN</td>\n",
       "      <td>NaN</td>\n",
       "      <td>NaN</td>\n",
       "      <td>NaN</td>\n",
       "      <td>NaN</td>\n",
       "      <td>0.184914</td>\n",
       "      <td>NaN</td>\n",
       "      <td>NaN</td>\n",
       "      <td>NaN</td>\n",
       "      <td>NaN</td>\n",
       "      <td>NaN</td>\n",
       "    </tr>\n",
       "    <tr>\n",
       "      <th>3</th>\n",
       "      <td>1565109931087</td>\n",
       "      <td>-0.053802</td>\n",
       "      <td>-0.987701</td>\n",
       "      <td>0.068985</td>\n",
       "      <td>1.0</td>\n",
       "      <td>NaN</td>\n",
       "      <td>NaN</td>\n",
       "      <td>NaN</td>\n",
       "      <td>NaN</td>\n",
       "      <td>NaN</td>\n",
       "      <td>NaN</td>\n",
       "      <td>0.088345</td>\n",
       "      <td>NaN</td>\n",
       "      <td>NaN</td>\n",
       "      <td>NaN</td>\n",
       "      <td>NaN</td>\n",
       "      <td>NaN</td>\n",
       "    </tr>\n",
       "    <tr>\n",
       "      <th>4</th>\n",
       "      <td>1565109931188</td>\n",
       "      <td>-0.054031</td>\n",
       "      <td>-1.003616</td>\n",
       "      <td>0.126450</td>\n",
       "      <td>NaN</td>\n",
       "      <td>NaN</td>\n",
       "      <td>NaN</td>\n",
       "      <td>NaN</td>\n",
       "      <td>NaN</td>\n",
       "      <td>NaN</td>\n",
       "      <td>NaN</td>\n",
       "      <td>0.137557</td>\n",
       "      <td>NaN</td>\n",
       "      <td>NaN</td>\n",
       "      <td>NaN</td>\n",
       "      <td>NaN</td>\n",
       "      <td>NaN</td>\n",
       "    </tr>\n",
       "    <tr>\n",
       "      <th>...</th>\n",
       "      <td>...</td>\n",
       "      <td>...</td>\n",
       "      <td>...</td>\n",
       "      <td>...</td>\n",
       "      <td>...</td>\n",
       "      <td>...</td>\n",
       "      <td>...</td>\n",
       "      <td>...</td>\n",
       "      <td>...</td>\n",
       "      <td>...</td>\n",
       "      <td>...</td>\n",
       "      <td>...</td>\n",
       "      <td>...</td>\n",
       "      <td>...</td>\n",
       "      <td>...</td>\n",
       "      <td>...</td>\n",
       "      <td>...</td>\n",
       "    </tr>\n",
       "    <tr>\n",
       "      <th>4989</th>\n",
       "      <td>1565110430975</td>\n",
       "      <td>0.036499</td>\n",
       "      <td>-0.724823</td>\n",
       "      <td>0.553802</td>\n",
       "      <td>NaN</td>\n",
       "      <td>0.130811</td>\n",
       "      <td>0.118738</td>\n",
       "      <td>0.016656</td>\n",
       "      <td>0.348468</td>\n",
       "      <td>0.438107</td>\n",
       "      <td>0.411148</td>\n",
       "      <td>0.619477</td>\n",
       "      <td>0.631253</td>\n",
       "      <td>0.153850</td>\n",
       "      <td>0.571276</td>\n",
       "      <td>0.838244</td>\n",
       "      <td>0.677559</td>\n",
       "    </tr>\n",
       "    <tr>\n",
       "      <th>4990</th>\n",
       "      <td>1565110431075</td>\n",
       "      <td>-0.159241</td>\n",
       "      <td>0.307022</td>\n",
       "      <td>0.142410</td>\n",
       "      <td>NaN</td>\n",
       "      <td>-0.021384</td>\n",
       "      <td>0.382886</td>\n",
       "      <td>0.001117</td>\n",
       "      <td>0.240971</td>\n",
       "      <td>0.673304</td>\n",
       "      <td>0.402922</td>\n",
       "      <td>1.324366</td>\n",
       "      <td>0.767952</td>\n",
       "      <td>0.346972</td>\n",
       "      <td>0.234554</td>\n",
       "      <td>2.546363</td>\n",
       "      <td>0.649392</td>\n",
       "    </tr>\n",
       "    <tr>\n",
       "      <th>4991</th>\n",
       "      <td>1565110431175</td>\n",
       "      <td>-0.037964</td>\n",
       "      <td>-0.673706</td>\n",
       "      <td>1.065445</td>\n",
       "      <td>NaN</td>\n",
       "      <td>0.038455</td>\n",
       "      <td>0.554211</td>\n",
       "      <td>0.322531</td>\n",
       "      <td>0.169503</td>\n",
       "      <td>0.457117</td>\n",
       "      <td>0.492716</td>\n",
       "      <td>1.114936</td>\n",
       "      <td>0.825013</td>\n",
       "      <td>0.381403</td>\n",
       "      <td>0.122319</td>\n",
       "      <td>2.371576</td>\n",
       "      <td>1.491207</td>\n",
       "    </tr>\n",
       "    <tr>\n",
       "      <th>4992</th>\n",
       "      <td>1565110431275</td>\n",
       "      <td>0.255707</td>\n",
       "      <td>-1.485397</td>\n",
       "      <td>-0.013336</td>\n",
       "      <td>NaN</td>\n",
       "      <td>0.029044</td>\n",
       "      <td>0.417581</td>\n",
       "      <td>0.353714</td>\n",
       "      <td>0.151510</td>\n",
       "      <td>0.651193</td>\n",
       "      <td>0.457485</td>\n",
       "      <td>0.548794</td>\n",
       "      <td>0.854917</td>\n",
       "      <td>0.343673</td>\n",
       "      <td>0.096039</td>\n",
       "      <td>2.568080</td>\n",
       "      <td>1.462739</td>\n",
       "    </tr>\n",
       "    <tr>\n",
       "      <th>4993</th>\n",
       "      <td>1565110431376</td>\n",
       "      <td>-0.089462</td>\n",
       "      <td>-0.734573</td>\n",
       "      <td>-0.100876</td>\n",
       "      <td>NaN</td>\n",
       "      <td>0.001108</td>\n",
       "      <td>0.337704</td>\n",
       "      <td>0.329489</td>\n",
       "      <td>0.159307</td>\n",
       "      <td>0.637640</td>\n",
       "      <td>0.482102</td>\n",
       "      <td>0.297709</td>\n",
       "      <td>0.781056</td>\n",
       "      <td>0.424364</td>\n",
       "      <td>0.101521</td>\n",
       "      <td>2.196559</td>\n",
       "      <td>1.472505</td>\n",
       "    </tr>\n",
       "  </tbody>\n",
       "</table>\n",
       "<p>4994 rows × 17 columns</p>\n",
       "</div>"
      ],
      "text/plain": [
       "          timestamp         x         y         z  label    x_mean    y_mean  \\\n",
       "0     1565109930787 -0.006485 -0.934860 -0.069046    NaN       NaN       NaN   \n",
       "1     1565109930887 -0.066467 -1.015442  0.089554    NaN       NaN       NaN   \n",
       "2     1565109930987 -0.043488 -1.021255  0.178467    NaN       NaN       NaN   \n",
       "3     1565109931087 -0.053802 -0.987701  0.068985    1.0       NaN       NaN   \n",
       "4     1565109931188 -0.054031 -1.003616  0.126450    NaN       NaN       NaN   \n",
       "...             ...       ...       ...       ...    ...       ...       ...   \n",
       "4989  1565110430975  0.036499 -0.724823  0.553802    NaN  0.130811  0.118738   \n",
       "4990  1565110431075 -0.159241  0.307022  0.142410    NaN -0.021384  0.382886   \n",
       "4991  1565110431175 -0.037964 -0.673706  1.065445    NaN  0.038455  0.554211   \n",
       "4992  1565110431275  0.255707 -1.485397 -0.013336    NaN  0.029044  0.417581   \n",
       "4993  1565110431376 -0.089462 -0.734573 -0.100876    NaN  0.001108  0.337704   \n",
       "\n",
       "        z_mean      x_sd      y_sd      z_sd  magnitude    m_mean      m_sd  \\\n",
       "0          NaN       NaN       NaN       NaN   0.095145       NaN       NaN   \n",
       "1          NaN       NaN       NaN       NaN   0.112589       NaN       NaN   \n",
       "2          NaN       NaN       NaN       NaN   0.184914       NaN       NaN   \n",
       "3          NaN       NaN       NaN       NaN   0.088345       NaN       NaN   \n",
       "4          NaN       NaN       NaN       NaN   0.137557       NaN       NaN   \n",
       "...        ...       ...       ...       ...        ...       ...       ...   \n",
       "4989  0.016656  0.348468  0.438107  0.411148   0.619477  0.631253  0.153850   \n",
       "4990  0.001117  0.240971  0.673304  0.402922   1.324366  0.767952  0.346972   \n",
       "4991  0.322531  0.169503  0.457117  0.492716   1.114936  0.825013  0.381403   \n",
       "4992  0.353714  0.151510  0.651193  0.457485   0.548794  0.854917  0.343673   \n",
       "4993  0.329489  0.159307  0.637640  0.482102   0.297709  0.781056  0.424364   \n",
       "\n",
       "           x_E       y_E       z_E  \n",
       "0          NaN       NaN       NaN  \n",
       "1          NaN       NaN       NaN  \n",
       "2          NaN       NaN       NaN  \n",
       "3          NaN       NaN       NaN  \n",
       "4          NaN       NaN       NaN  \n",
       "...        ...       ...       ...  \n",
       "4989  0.571276  0.838244  0.677559  \n",
       "4990  0.234554  2.546363  0.649392  \n",
       "4991  0.122319  2.371576  1.491207  \n",
       "4992  0.096039  2.568080  1.462739  \n",
       "4993  0.101521  2.196559  1.472505  \n",
       "\n",
       "[4994 rows x 17 columns]"
      ]
     },
     "execution_count": 18,
     "metadata": {},
     "output_type": "execute_result"
    }
   ],
   "source": [
    "df_eng"
   ]
  },
  {
   "cell_type": "code",
   "execution_count": 19,
   "metadata": {},
   "outputs": [
    {
     "data": {
      "image/png": "[encoded data removed]",
      "text/plain": [
       "<Figure size 432x288 with 6 Axes>"
      ]
     },
     "metadata": {
      "needs_background": "light"
     },
     "output_type": "display_data"
    }
   ],
   "source": [
    "# Visualization of x, y, z rolling averages with their standard deviations vs. labels.\n",
    "\n",
    "fig, (ax1, ax2, ax3) = plt.subplots(3)\n",
    "\n",
    "# Plot x_mean signal and standard deviations\n",
    "ax1.grid(True)\n",
    "ax1.set_ylim((-1.5, 2.5))\n",
    "ax1.plot(df_eng[\"x_mean\"], label = \"x_mean\", color = \"orange\")\n",
    "ax1.fill_between(df_eng.index,\n",
    "                 df_eng[\"x_mean\"] - df_eng[\"x_sd\"],\n",
    "                 df_eng[\"x_mean\"] + df_eng[\"x_sd\"],\n",
    "                 alpha = 0.3, label = \"x_std\", color = \"grey\")\n",
    "ax1.legend(loc = \"upper left\")\n",
    "ax1.set_title(\" df_eng time series $x$ 5-rolling averages and standard deviations\")\n",
    "\n",
    "ax11 = ax1.twinx()  \n",
    "ax11.set_ylim((0.5, 4.5))\n",
    "ax11.set_ylabel(\"labels\", color = \"red\")\n",
    "ax11.plot(df_eng[\"label\"], alpha = 0.15, color = \"red\", linestyle = \"None\", marker = \".\")\n",
    "ax11.tick_params(axis = \"y\", labelcolor = \"red\")\n",
    "fig.tight_layout() \n",
    "\n",
    "# Plot y_mean signal and standard deviations\n",
    "ax2.grid(True)\n",
    "ax2.set_ylim((-1.5, 2.5))\n",
    "ax2.plot(df_eng[\"y_mean\"], label = \"y_mean\", color = \"orange\")\n",
    "ax2.fill_between(df_eng.index,\n",
    "                 df_eng[\"y_mean\"] - df_eng[\"y_sd\"],\n",
    "                 df_eng[\"y_mean\"] + df_eng[\"y_sd\"],\n",
    "                 alpha = 0.3, label = \"y_std\", color = \"grey\")\n",
    "ax2.legend(loc = \"upper left\")\n",
    "ax2.set_title(\"df_eng time series $y$ 5-rolling averages and standard deviations\")\n",
    "\n",
    "ax21 = ax2.twinx()  \n",
    "ax21.set_ylim((0.5, 4.5))\n",
    "ax21.set_ylabel(\"labels\", color = \"red\")\n",
    "ax21.plot(df_eng[\"label\"], alpha = 0.15, color = \"red\", linestyle = \"None\", marker = \".\")\n",
    "ax21.tick_params(axis = \"y\", labelcolor = \"red\")\n",
    "fig.tight_layout() \n",
    "\n",
    "# Plot z_mean signal and standard deviations\n",
    "ax3.grid(True)\n",
    "ax3.set_ylim((-1.5, 2.5))\n",
    "ax3.plot(df_eng[\"z_mean\"], label = \"z_mean\", color = \"orange\")\n",
    "ax3.fill_between(df_eng.index,\n",
    "                 df_eng[\"z_mean\"] - df_eng[\"z_sd\"],\n",
    "                 df_eng[\"z_mean\"] + df_eng[\"z_sd\"],\n",
    "                 alpha = 0.3, label = \"z_std\", color = \"grey\")\n",
    "ax3.legend(loc = \"upper left\")\n",
    "ax3.set_title(\"df_eng time series $z$ 5-rolling averages and standard deviations\")\n",
    "\n",
    "ax31 = ax3.twinx()  \n",
    "ax31.set_ylim((0.5, 4.5))\n",
    "ax31.set_ylabel(\"labels\", color = \"red\")\n",
    "ax31.plot(df_eng[\"label\"], alpha = 0.15, color = \"red\", linestyle = \"None\", marker = \".\")\n",
    "ax31.tick_params(axis = \"y\", labelcolor = \"red\")\n",
    "fig.tight_layout() \n",
    "\n",
    "plt.subplots_adjust(hspace = 0.5)\n"
   ]
  },
  {
   "cell_type": "code",
   "execution_count": 20,
   "metadata": {},
   "outputs": [
    {
     "data": {
      "image/png": "[encoded data removed]",
      "text/plain": [
       "<Figure size 432x288 with 2 Axes>"
      ]
     },
     "metadata": {
      "needs_background": "light"
     },
     "output_type": "display_data"
    }
   ],
   "source": [
    "# Visualization of magnitude rolling averages with their standard deviations vs. labels.\n",
    "\n",
    "fig, (ax1) = plt.subplots(1)\n",
    "\n",
    "ax1.grid(True)\n",
    "ax1.set_ylim((-0.5, 3.5))\n",
    "ax1.plot(df_eng[\"m_mean\"], label = \"magnitude\", color = \"green\")\n",
    "ax1.fill_between(df_eng.index,\n",
    "                 df_eng[\"m_mean\"] - df_eng[\"m_sd\"],\n",
    "                 df_eng[\"m_mean\"] + df_eng[\"m_sd\"],\n",
    "                 alpha = 0.3, label = \"standard deviations\", color = \"grey\")\n",
    "ax1.legend(loc = \"upper left\")\n",
    "ax1.set_title(\"df_eng time series $magnitude$ 5-rolling averages and standard deviations\")\n",
    "\n",
    "ax11 = ax1.twinx()  \n",
    "ax11.set_ylim((0.5, 4.5))\n",
    "ax11.set_ylabel(\"labels\", color = \"red\")\n",
    "ax11.plot(df_eng[\"label\"], alpha = 0.15, color = \"red\", linestyle = \"None\", marker = \".\")\n",
    "ax11.tick_params(axis = \"y\", labelcolor = \"red\")\n",
    "fig.tight_layout()"
   ]
  },
  {
   "cell_type": "code",
   "execution_count": 21,
   "metadata": {},
   "outputs": [
    {
     "data": {
      "image/png": "[encoded data removed]",
      "text/plain": [
       "<Figure size 432x288 with 6 Axes>"
      ]
     },
     "metadata": {
      "needs_background": "light"
     },
     "output_type": "display_data"
    }
   ],
   "source": [
    "# Visualization of  x, y, z signals energy vs. labels.\n",
    "\n",
    "fig, (ax1, ax2, ax3) = plt.subplots(3)\n",
    "\n",
    "# Plot x signal energy\n",
    "ax1.grid(True)\n",
    "ax1.set_ylim((-1, 7))\n",
    "ax1.plot(df_eng[\"x_E\"], color = \"peru\")\n",
    "ax1.set_ylabel(\"$x$_E\")\n",
    "ax1.set_title(\"df_eng time series $x$ energy\")\n",
    "\n",
    "ax11 = ax1.twinx()  \n",
    "ax11.set_ylim((0.5, 4.5))\n",
    "ax11.set_ylabel(\"labels\", color = \"red\")\n",
    "ax11.plot(df_eng[\"label\"], alpha = 0.15, color = \"red\", linestyle = \"None\", marker = \".\")\n",
    "ax11.tick_params(axis = \"y\", labelcolor = \"red\")\n",
    "fig.tight_layout() \n",
    "\n",
    "# Plot y signal energy\n",
    "ax2.grid(True)\n",
    "ax2.set_ylim((-1, 7))\n",
    "ax2.plot(df_eng[\"y_E\"], color = \"peru\")\n",
    "ax2.set_ylabel(\"$y$_E\")\n",
    "ax2.set_title(\"df_eng time series $y$ energy\")\n",
    "\n",
    "ax21 = ax2.twinx()  \n",
    "ax21.set_ylim((0.5, 4.5))\n",
    "ax21.set_ylabel(\"labels\", color = \"red\")\n",
    "ax21.plot(df_eng[\"label\"], alpha = 0.15, color = \"red\", linestyle = \"None\", marker = \".\")\n",
    "ax21.tick_params(axis = \"y\", labelcolor = \"red\")\n",
    "fig.tight_layout() \n",
    "\n",
    "# Plot z signal energy\n",
    "ax3.grid(True)\n",
    "ax3.set_ylim((-1, 7))\n",
    "ax3.plot(df_eng[\"z_E\"], color = \"peru\")\n",
    "ax3.set_ylabel(\"$z$_E\")\n",
    "ax3.set_title(\"df_eng time series $z$ energy\")\n",
    "\n",
    "ax31 = ax3.twinx()  \n",
    "ax31.set_ylim((0.5, 4.5))\n",
    "ax31.set_ylabel(\"labels\", color = \"red\")\n",
    "ax31.plot(df_eng[\"label\"], alpha = 0.15, color = \"red\", linestyle = \"None\", marker = \".\")\n",
    "ax31.tick_params(axis = \"y\", labelcolor = \"red\")\n",
    "fig.tight_layout() \n",
    "\n",
    "plt.subplots_adjust(hspace = 0.5)\n"
   ]
  },
  {
   "cell_type": "code",
   "execution_count": 22,
   "metadata": {},
   "outputs": [
    {
     "data": {
      "text/plain": [
       "'Energy is definitely flat for class 1.\\n\\nEnergy is higher for class 2, clear for observations before #2000 but less clear for observations after.\\n\\nEnergy for class 3 seems a bit higher than for class 4, less obvious for observations after #2000.'"
      ]
     },
     "execution_count": 22,
     "metadata": {},
     "output_type": "execute_result"
    }
   ],
   "source": [
    "#Insights:\n",
    "\n",
    "'''Energy is definitely flat for class 1.\n",
    "\n",
    "Energy is higher for class 2, clear for observations before #2000 but less clear for observations after.\n",
    "\n",
    "Energy for class 3 seems a bit higher than for class 4, less obvious for observations after #2000.'''"
   ]
  },
  {
   "cell_type": "markdown",
   "metadata": {},
   "source": [
    "# Building Classification Models"
   ]
  },
  {
   "cell_type": "markdown",
   "metadata": {},
   "source": [
    "# Preparation of the datasets"
   ]
  },
  {
   "cell_type": "code",
   "execution_count": 65,
   "metadata": {},
   "outputs": [
    {
     "name": "stdout",
     "output_type": "stream",
     "text": [
      "train_ts: \n",
      "          timestamp         x         y         z  label    x_mean    y_mean  \\\n",
      "0     1565109930787 -0.006485 -0.934860 -0.069046    NaN       NaN       NaN   \n",
      "1     1565109930887 -0.066467 -1.015442  0.089554    NaN       NaN       NaN   \n",
      "2     1565109930987 -0.043488 -1.021255  0.178467    NaN       NaN       NaN   \n",
      "3     1565109931087 -0.053802 -0.987701  0.068985    1.0       NaN       NaN   \n",
      "4     1565109931188 -0.054031 -1.003616  0.126450    NaN       NaN       NaN   \n",
      "...             ...       ...       ...       ...    ...       ...       ...   \n",
      "3739  1565110305638  0.024384 -0.710709  0.030304    NaN  0.381805 -0.003494   \n",
      "3740  1565110305738  0.487228 -1.099136 -0.015213    NaN  0.348709 -0.015271   \n",
      "3741  1565110305838  0.369446 -0.968506  0.036713    NaN  0.408737 -0.128214   \n",
      "3742  1565110305939  0.167877 -0.802826  0.049805    NaN  0.377667 -0.267410   \n",
      "3743  1565110306039  0.689346 -0.991043  0.034973    4.0  0.347656  0.085556   \n",
      "\n",
      "        z_mean      x_sd      y_sd      z_sd  magnitude    m_mean      m_sd  \\\n",
      "0          NaN       NaN       NaN       NaN   0.095145       NaN       NaN   \n",
      "1          NaN       NaN       NaN       NaN   0.112589       NaN       NaN   \n",
      "2          NaN       NaN       NaN       NaN   0.184914       NaN       NaN   \n",
      "3          NaN       NaN       NaN       NaN   0.088345       NaN       NaN   \n",
      "4          NaN       NaN       NaN       NaN   0.137557       NaN       NaN   \n",
      "...        ...       ...       ...       ...        ...       ...       ...   \n",
      "3739  0.157144  0.357639  1.039415  0.351381   0.291894  0.920505  0.696921   \n",
      "3740  0.175458  0.333118  1.040269  0.336247   0.497444  0.887472  0.715858   \n",
      "3741  0.171863  0.295049  0.986552  0.337953   0.372599  0.841450  0.745524   \n",
      "3742  0.175369  0.313883  0.845420  0.336229   0.263706  0.704112  0.782757   \n",
      "3743  0.027316  0.261502  0.155618  0.024851   0.690291  0.423187  0.174707   \n",
      "\n",
      "           x_E       y_E       z_E  \n",
      "0          NaN       NaN       NaN  \n",
      "1          NaN       NaN       NaN  \n",
      "2          NaN       NaN       NaN  \n",
      "3          NaN       NaN       NaN  \n",
      "4          NaN       NaN       NaN  \n",
      "...        ...       ...       ...  \n",
      "3739  1.240498  4.321599  0.617347  \n",
      "3740  1.051859  4.329807  0.606176  \n",
      "3741  1.183546  3.975336  0.604533  \n",
      "3742  1.107253  3.216483  0.605972  \n",
      "3743  0.877857  0.133467  0.006201  \n",
      "\n",
      "[3744 rows x 17 columns] \n",
      "\n",
      "test_ts: \n",
      "          timestamp         x         y         z  label    x_mean    y_mean  \\\n",
      "3744  1565110306139  0.034286 -1.504456  0.157623    NaN  0.349637 -0.073193   \n",
      "3745  1565110306239  0.409164 -1.038544  0.030975    NaN  0.334024 -0.061075   \n",
      "3746  1565110306340 -0.234390 -0.984558  0.124771    NaN  0.213257 -0.064285   \n",
      "3747  1565110306440  0.251114 -0.787003  0.054810    NaN  0.229904 -0.061121   \n",
      "3748  1565110306540  0.109924 -0.169510  0.235550    NaN  0.114020  0.103186   \n",
      "...             ...       ...       ...       ...    ...       ...       ...   \n",
      "4989  1565110430975  0.036499 -0.724823  0.553802    NaN  0.130811  0.118738   \n",
      "4990  1565110431075 -0.159241  0.307022  0.142410    NaN -0.021384  0.382886   \n",
      "4991  1565110431175 -0.037964 -0.673706  1.065445    NaN  0.038455  0.554211   \n",
      "4992  1565110431275  0.255707 -1.485397 -0.013336    NaN  0.029044  0.417581   \n",
      "4993  1565110431376 -0.089462 -0.734573 -0.100876    NaN  0.001108  0.337704   \n",
      "\n",
      "        z_mean      x_sd      y_sd      z_sd  magnitude    m_mean      m_sd  \\\n",
      "3744  0.052780  0.258461  0.263376  0.063638   0.529619  0.470732  0.161924   \n",
      "3745  0.062018  0.250301  0.263277  0.053910   0.412142  0.453671  0.162897   \n",
      "3746  0.079630  0.353383  0.261961  0.057818   0.265979  0.432347  0.182019   \n",
      "3747  0.080630  0.352671  0.265974  0.057213   0.333812  0.446368  0.167936   \n",
      "3748  0.120746  0.241697  0.484263  0.082101   0.870219  0.482354  0.237953   \n",
      "...        ...       ...       ...       ...        ...       ...       ...   \n",
      "4989  0.016656  0.348468  0.438107  0.411148   0.619477  0.631253  0.153850   \n",
      "4990  0.001117  0.240971  0.673304  0.402922   1.324366  0.767952  0.346972   \n",
      "4991  0.322531  0.169503  0.457117  0.492716   1.114936  0.825013  0.381403   \n",
      "4992  0.353714  0.151510  0.651193  0.457485   0.548794  0.854917  0.343673   \n",
      "4993  0.329489  0.159307  0.637640  0.482102   0.297709  0.781056  0.424364   \n",
      "\n",
      "           x_E       y_E       z_E  \n",
      "3744  0.878438  0.304253  0.030128  \n",
      "3745  0.808462  0.295911  0.030856  \n",
      "3746  0.726911  0.295157  0.045076  \n",
      "3747  0.761786  0.301648  0.045600  \n",
      "3748  0.298671  0.991281  0.099860  \n",
      "...        ...       ...       ...  \n",
      "4989  0.571276  0.838244  0.677559  \n",
      "4990  0.234554  2.546363  0.649392  \n",
      "4991  0.122319  2.371576  1.491207  \n",
      "4992  0.096039  2.568080  1.462739  \n",
      "4993  0.101521  2.196559  1.472505  \n",
      "\n",
      "[1250 rows x 17 columns]\n"
     ]
    }
   ],
   "source": [
    "split_time = 1565110306139\n",
    "train_ts = df_eng.loc[df_eng[\"timestamp\"] < split_time]\n",
    "test_ts = df_eng.loc[df_eng[\"timestamp\"] >= split_time]\n",
    "\n",
    "print(\"train_ts: \\n%s\" % train_ts, \"\\n\")\n",
    "print(\"test_ts: \\n%s\" % test_ts)"
   ]
  },
  {
   "cell_type": "code",
   "execution_count": 66,
   "metadata": {},
   "outputs": [
    {
     "name": "stdout",
     "output_type": "stream",
     "text": [
      "train_ts: \n",
      "         timestamp         x         y         z  label    x_mean    y_mean  \\\n",
      "0    1565109932090  0.013718 -0.852371 -0.000870    1.0 -0.017218  0.052502   \n",
      "1    1565109933092  0.145584 -1.007843 -0.036819    1.0  0.096811  0.000986   \n",
      "2    1565109934094 -0.099380 -1.209686  0.304489    1.0 -0.065198  0.007608   \n",
      "3    1565109935097  0.082794 -1.001434 -0.025375    1.0  0.036398 -0.003287   \n",
      "4    1565109936099  0.037582 -0.998383  0.019333    1.0  0.050793 -0.004266   \n",
      "..             ...       ...       ...       ...    ...       ...       ...   \n",
      "369  1565110302030 -0.641953 -1.469177  0.301041    4.0  0.280923 -0.130682   \n",
      "370  1565110303032 -0.171616 -0.366074 -0.059082    4.0  0.052682  0.076358   \n",
      "371  1565110304034  0.401810 -1.077698  0.258911    4.0  0.209601 -0.136621   \n",
      "372  1565110305037  0.330338 -1.470062  0.303894    4.0  0.366956 -0.035223   \n",
      "373  1565110306039  0.689346 -0.991043  0.034973    4.0  0.347656  0.085556   \n",
      "\n",
      "       z_mean      x_sd      y_sd      z_sd  magnitude    m_mean      m_sd  \\\n",
      "0    0.150552  0.091719  0.141290  0.102208   0.148267  0.232338  0.059113   \n",
      "1   -0.053116  0.033913  0.008127  0.020343   0.150373  0.114677  0.020853   \n",
      "2    0.215649  0.039809  0.153184  0.055983   0.382830  0.263250  0.071238   \n",
      "3   -0.006540  0.030390  0.009938  0.037698   0.086607  0.054808  0.020287   \n",
      "4   -0.026837  0.018894  0.003927  0.041684   0.042294  0.068459  0.019991   \n",
      "..        ...       ...       ...       ...        ...       ...       ...   \n",
      "369  0.241983  1.000007  0.729369  0.349837   0.850209  0.919219  0.889586   \n",
      "370 -0.045361  0.334868  0.556672  0.131288   0.659398  0.556136  0.256859   \n",
      "371  0.011337  0.489109  0.358512  0.292148   0.484276  0.598768  0.288725   \n",
      "372  0.059143  0.066972  0.257208  0.146023   0.649948  0.446667  0.129684   \n",
      "373  0.027316  0.261502  0.155618  0.024851   0.690291  0.423187  0.174707   \n",
      "\n",
      "          x_E       y_E       z_E  \n",
      "0    0.035132  0.093634  0.155116  \n",
      "1    0.051462  0.000269  0.015762  \n",
      "2    0.027593  0.094151  0.245060  \n",
      "3    0.010318  0.000449  0.005899  \n",
      "4    0.014328  0.000153  0.010551  \n",
      "..        ...       ...       ...  \n",
      "369  4.394644  2.213308  0.782322  \n",
      "370  0.462424  1.268686  0.079235  \n",
      "371  1.176572  0.607449  0.342044  \n",
      "372  0.691223  0.270826  0.102780  \n",
      "373  0.877857  0.133467  0.006201  \n",
      "\n",
      "[374 rows x 17 columns] \n",
      "\n",
      "test_ts: \n",
      "         timestamp         x         y         z    x_mean    y_mean  \\\n",
      "0    1565110307041  0.098282 -0.833771  0.118042  0.296762  0.171085   \n",
      "1    1565110308043  0.348465 -0.946701 -0.051041  0.390955  0.051266   \n",
      "2    1565110309046  0.377335 -0.849243 -0.026474  0.226492  0.314532   \n",
      "3    1565110310048  0.110077 -0.520325  0.312714  0.212668 -0.041086   \n",
      "4    1565110311050  0.283478 -0.892548 -0.085876  0.286349  0.060910   \n",
      "..             ...       ...       ...       ...       ...       ...   \n",
      "120  1565110427366 -0.043915 -0.242416  0.068802  0.121902  0.078085   \n",
      "121  1565110428369  0.118271 -1.212097  0.357468  0.271603 -0.137958   \n",
      "122  1565110429371  0.667404 -0.978851  0.171906  0.417340  0.040762   \n",
      "123  1565110430373  0.371384 -1.021927 -0.244446  0.316391  0.013763   \n",
      "124  1565110431376 -0.089462 -0.734573 -0.100876  0.001108  0.337704   \n",
      "\n",
      "       z_mean      x_sd      y_sd      z_sd  magnitude    m_mean      m_sd  \\\n",
      "0    0.259003  0.267446  0.231411  0.384009   0.226330  0.534160  0.382632   \n",
      "1    0.237402  0.393711  0.822794  0.390885   0.356193  0.791749  0.682639   \n",
      "2    0.209650  0.181560  0.497560  0.253627   0.407198  0.656979  0.219218   \n",
      "3    0.179938  0.235816  0.317060  0.136680   0.583091  0.444734  0.163399   \n",
      "4   -0.046042  0.132979  0.029387  0.062914   0.315088  0.304955  0.126651   \n",
      "..        ...       ...       ...       ...        ...       ...       ...   \n",
      "120  0.140942  0.157542  0.438203  0.236074   0.761968  0.483264  0.177962   \n",
      "121  0.085675  0.223508  0.173381  0.214235   0.432153  0.420775  0.172556   \n",
      "122  0.152838  0.279098  0.109714  0.238072   0.689512  0.524592  0.227173   \n",
      "123 -0.326498  0.522547  0.162852  0.587891   0.445152  0.585511  0.689405   \n",
      "124  0.329489  0.159307  0.637640  0.482102   0.297709  0.781056  0.424364   \n",
      "\n",
      "          x_E       y_E       z_E                 UTC time  label  \n",
      "0    0.726449  0.360554  0.925262  2019-08-06T16:51:47.041    NaN  \n",
      "1    1.384259  2.721100  0.892963  2019-08-06T16:51:48.043    NaN  \n",
      "2    0.388350  1.484916  0.477071  2019-08-06T16:51:49.046    NaN  \n",
      "3    0.448574  0.410548  0.236614  2019-08-06T16:51:50.048    NaN  \n",
      "4    0.480714  0.022005  0.026432  2019-08-06T16:51:51.050    NaN  \n",
      "..        ...       ...       ...                      ...    ...  \n",
      "120  0.173580  0.798574  0.322247  2019-08-06T16:53:47.366    NaN  \n",
      "121  0.568666  0.215405  0.220287  2019-08-06T16:53:48.369    NaN  \n",
      "122  1.182446  0.056456  0.343510  2019-08-06T16:53:49.371    NaN  \n",
      "123  1.592737  0.107031  1.915469  2019-08-06T16:53:50.373    NaN  \n",
      "124  0.101521  2.196559  1.472505  2019-08-06T16:53:51.376    NaN  \n",
      "\n",
      "[125 rows x 18 columns]\n"
     ]
    }
   ],
   "source": [
    "# Drop rows with NaN values in train_ts set.\n",
    "train_ts = train_ts.dropna(how = \"any\")\n",
    "train_ts.reset_index(drop = True, inplace = True)\n",
    "\n",
    "# Drop \"label\" column from test_ts set and merge with the original label set, i.e. test_labels.\n",
    "test_ts = test_ts.drop(labels = \"label\", axis = 1)\n",
    "test_ts = test_ts.merge(test_labels, how = \"right\", left_on = \"timestamp\", right_on = \"timestamp\")\n",
    "\n",
    "print(\"train_ts: \\n%s\" % train_ts, \"\\n\")\n",
    "print(\"test_ts: \\n%s\" % test_ts)"
   ]
  },
  {
   "cell_type": "code",
   "execution_count": 67,
   "metadata": {},
   "outputs": [],
   "source": [
    "#Imbalanced classes"
   ]
  },
  {
   "cell_type": "code",
   "execution_count": 68,
   "metadata": {},
   "outputs": [
    {
     "data": {
      "image/png": "[encoded data removed]",
      "text/plain": [
       "<Figure size 432x288 with 2 Axes>"
      ]
     },
     "metadata": {
      "needs_background": "light"
     },
     "output_type": "display_data"
    }
   ],
   "source": [
    "# Visualization of classes balance.\n",
    "\n",
    "clist = [\"red\", \"green\", \"blue\", \"yellow\"]\n",
    "\n",
    "fig, (ax1, ax2) = plt.subplots(2)\n",
    "\n",
    "train_ts[\"label\"].value_counts().plot(kind = \"bar\", color = clist, alpha = 0.5, ax = ax1)\n",
    "ax1.yaxis.grid(True)\n",
    "ax1.set_ylabel(\"Counts\")\n",
    "ax1.set_title(\"Class counts -- 1: standing, 2: walking, 3: stairs down, 4: stairs up\")\n",
    "\n",
    "distrib = train_ts[\"label\"].value_counts(normalize = True)*100.00\n",
    "distrib.plot(kind = \"bar\", color = clist, alpha = 0.5, ax = ax2)\n",
    "ax2.yaxis.grid(True)\n",
    "ax2.set_ylabel(\"%\")\n",
    "ax2.set_title(\"Class distribution -- 1: standing, 2: walking, 3: stairs down, 4: stairs up\")\n",
    "\n",
    "plt.subplots_adjust(hspace = 0.5)"
   ]
  },
  {
   "cell_type": "markdown",
   "metadata": {},
   "source": [
    "# Splitting to train and test sets for building models\n",
    "Spliting the X_train set into to one training set and one testing set with a ratio of 75/25 for building our models."
   ]
  },
  {
   "cell_type": "code",
   "execution_count": 70,
   "metadata": {},
   "outputs": [
    {
     "name": "stdout",
     "output_type": "stream",
     "text": [
      "mod_train: \n",
      "         timestamp         x         y         z  label    x_mean    y_mean  \\\n",
      "0    1565109932090  0.013718 -0.852371 -0.000870    1.0 -0.017218  0.052502   \n",
      "1    1565109933092  0.145584 -1.007843 -0.036819    1.0  0.096811  0.000986   \n",
      "2    1565109934094 -0.099380 -1.209686  0.304489    1.0 -0.065198  0.007608   \n",
      "3    1565109935097  0.082794 -1.001434 -0.025375    1.0  0.036398 -0.003287   \n",
      "4    1565109936099  0.037582 -0.998383  0.019333    1.0  0.050793 -0.004266   \n",
      "..             ...       ...       ...       ...    ...       ...       ...   \n",
      "275  1565110207814  0.286728 -0.772873  0.004883    3.0  0.217883 -0.136908   \n",
      "276  1565110208816 -0.554367 -1.945923 -0.351334    3.0  0.096323 -0.050458   \n",
      "277  1565110209818  0.732361 -0.938477 -0.078278    3.0  0.226181  0.161777   \n",
      "278  1565110210821  0.257874 -0.615005  0.031891    3.0  0.331747  0.339182   \n",
      "279  1565110211823  0.275391 -0.700226  0.007645    3.0  0.076016  0.122168   \n",
      "\n",
      "       z_mean      x_sd      y_sd      z_sd  magnitude    m_mean      m_sd  \\\n",
      "0    0.150552  0.091719  0.141290  0.102208   0.148267  0.232338  0.059113   \n",
      "1   -0.053116  0.033913  0.008127  0.020343   0.150373  0.114677  0.020853   \n",
      "2    0.215649  0.039809  0.153184  0.055983   0.382830  0.263250  0.071238   \n",
      "3   -0.006540  0.030390  0.009938  0.037698   0.086607  0.054808  0.020287   \n",
      "4   -0.026837  0.018894  0.003927  0.041684   0.042294  0.068459  0.019991   \n",
      "..        ...       ...       ...       ...        ...       ...       ...   \n",
      "275  0.067148  0.185554  0.257529  0.319791   0.365819  0.464408  0.147755   \n",
      "276 -0.136105  0.588548  0.502060  0.216893   1.151316  0.656721  0.379906   \n",
      "277 -0.010889  0.686566  0.112973  0.237385   0.739097  0.638716  0.356862   \n",
      "278 -0.026242  0.549332  0.348924  0.224018   0.464474  0.717438  0.335465   \n",
      "279 -0.030585  0.416128  0.158476  0.550157   0.407140  0.590950  0.302442   \n",
      "\n",
      "          x_E       y_E       z_E  \n",
      "0    0.035132  0.093634  0.155116  \n",
      "1    0.051462  0.000269  0.015762  \n",
      "2    0.027593  0.094151  0.245060  \n",
      "3    0.010318  0.000449  0.005899  \n",
      "4    0.014328  0.000153  0.010551  \n",
      "..        ...       ...       ...  \n",
      "275  0.375086  0.359003  0.431610  \n",
      "276  1.431946  1.020989  0.280793  \n",
      "277  2.141282  0.181910  0.226000  \n",
      "278  1.757343  1.062212  0.204179  \n",
      "279  0.721543  0.175083  1.215367  \n",
      "\n",
      "[280 rows x 17 columns] \n",
      "\n",
      "mod_test: \n",
      "         timestamp         x         y         z  label    x_mean    y_mean  \\\n",
      "280  1565110212825  0.255386 -0.786774  0.076691    3.0  0.233896 -0.031891   \n",
      "281  1565110213828  0.238129 -0.718674  0.369476    3.0  0.420374 -0.078699   \n",
      "282  1565110214830  0.003357 -0.979919  0.224365    3.0  0.225366  0.167786   \n",
      "283  1565110215832 -0.169708 -0.983978  0.170471    3.0  0.187183 -0.019547   \n",
      "284  1565110216834  0.146637 -0.860184  0.027344    3.0  0.239908  0.047235   \n",
      "..             ...       ...       ...       ...    ...       ...       ...   \n",
      "369  1565110302030 -0.641953 -1.469177  0.301041    4.0  0.280923 -0.130682   \n",
      "370  1565110303032 -0.171616 -0.366074 -0.059082    4.0  0.052682  0.076358   \n",
      "371  1565110304034  0.401810 -1.077698  0.258911    4.0  0.209601 -0.136621   \n",
      "372  1565110305037  0.330338 -1.470062  0.303894    4.0  0.366956 -0.035223   \n",
      "373  1565110306039  0.689346 -0.991043  0.034973    4.0  0.347656  0.085556   \n",
      "\n",
      "       z_mean      x_sd      y_sd      z_sd  magnitude    m_mean      m_sd  \\\n",
      "280  0.075620  0.472697  0.267848  0.148593   0.341422  0.520676  0.234924   \n",
      "281  0.290875  0.650910  0.996501  0.473800   0.521884  1.052648  0.768436   \n",
      "282  0.170053  0.407515  0.717796  0.070985   0.225287  0.750151  0.343154   \n",
      "283  0.288620  0.312932  0.729626  0.166751   0.241077  0.667715  0.499182   \n",
      "284  0.197952  0.242963  0.492438  0.124755   0.204447  0.504361  0.350472   \n",
      "..        ...       ...       ...       ...        ...       ...       ...   \n",
      "369  0.241983  1.000007  0.729369  0.349837   0.850209  0.919219  0.889586   \n",
      "370 -0.045361  0.334868  0.556672  0.131288   0.659398  0.556136  0.256859   \n",
      "371  0.011337  0.489109  0.358512  0.292148   0.484276  0.598768  0.288725   \n",
      "372  0.059143  0.066972  0.257208  0.146023   0.649948  0.446667  0.129684   \n",
      "373  0.027316  0.261502  0.155618  0.024851   0.690291  0.423187  0.174707   \n",
      "\n",
      "          x_E       y_E       z_E  \n",
      "280  1.167307  0.292056  0.116911  \n",
      "281  2.578306  4.003026  1.320987  \n",
      "282  0.918225  2.201685  0.164746  \n",
      "283  0.566893  2.131325  0.527731  \n",
      "284  0.523903  0.981137  0.258181  \n",
      "..        ...       ...       ...  \n",
      "369  4.394644  2.213308  0.782322  \n",
      "370  0.462424  1.268686  0.079235  \n",
      "371  1.176572  0.607449  0.342044  \n",
      "372  0.691223  0.270826  0.102780  \n",
      "373  0.877857  0.133467  0.006201  \n",
      "\n",
      "[94 rows x 17 columns]\n"
     ]
    }
   ],
   "source": [
    "mod_train = train_ts.iloc[0:int(len(train_ts)*0.75)]\n",
    "mod_test = train_ts.iloc[int(len(train_ts)*0.75):len(train_ts)]\n",
    "\n",
    "print(\"mod_train: \\n%s\" % mod_train, \"\\n\")\n",
    "print(\"mod_test: \\n%s\" % mod_test)"
   ]
  },
  {
   "cell_type": "code",
   "execution_count": 71,
   "metadata": {},
   "outputs": [
    {
     "name": "stdout",
     "output_type": "stream",
     "text": [
      "mod_train class counts: \n",
      "2.0    136\n",
      "3.0     81\n",
      "4.0     37\n",
      "1.0     26\n",
      "Name: label, dtype: int64 \n",
      "\n",
      "mod_test class counts: \n",
      "2.0    77\n",
      "4.0    10\n",
      "3.0     7\n",
      "Name: label, dtype: int64\n"
     ]
    }
   ],
   "source": [
    "print(\"mod_train class counts: \\n%s\" % mod_train[\"label\"].value_counts(), \"\\n\")\n",
    "print(\"mod_test class counts: \\n%s\" % mod_test[\"label\"].value_counts())"
   ]
  },
  {
   "cell_type": "code",
   "execution_count": 72,
   "metadata": {},
   "outputs": [],
   "source": [
    "#Cross-validation"
   ]
  },
  {
   "cell_type": "code",
   "execution_count": 73,
   "metadata": {},
   "outputs": [
    {
     "name": "stdout",
     "output_type": "stream",
     "text": [
      "Observations: 96\n",
      "Training Observations: 50\n",
      "Testing Observations: 46\n",
      "Observations: 142\n",
      "Training Observations: 96\n",
      "Testing Observations: 46\n",
      "Observations: 188\n",
      "Training Observations: 142\n",
      "Testing Observations: 46\n",
      "Observations: 234\n",
      "Training Observations: 188\n",
      "Testing Observations: 46\n",
      "Observations: 280\n",
      "Training Observations: 234\n",
      "Testing Observations: 46\n"
     ]
    },
    {
     "data": {
      "image/png": "[encoded data removed]",
      "text/plain": [
       "<Figure size 432x288 with 5 Axes>"
      ]
     },
     "metadata": {
      "needs_background": "light"
     },
     "output_type": "display_data"
    }
   ],
   "source": [
    "# scikit-learn time series cross-validator. \n",
    "tscv = TimeSeriesSplit(n_splits = 5) \n",
    "\n",
    "# Example of TimeSeriesSplit on x signal\n",
    "X = np.array(mod_train[\"x\"])\n",
    "index = 1\n",
    "plt.figure(1)\n",
    "for train_index, test_index in tscv.split(X):\n",
    "\ttrain = X[train_index]\n",
    "\ttest = X[test_index]\n",
    "\tprint('Observations: %d' % (len(train) + len(test)))\n",
    "\tprint('Training Observations: %d' % (len(train)))\n",
    "\tprint('Testing Observations: %d' % (len(test)))\n",
    "\tplt.subplot(510 + index)\n",
    "\tplt.plot(train)\n",
    "\tplt.plot([None for i in train] + [ii for ii in test])\n",
    "\tindex += 1\n",
    "plt.subplots_adjust(hspace = 0.5)"
   ]
  },
  {
   "cell_type": "markdown",
   "metadata": {},
   "source": [
    "# User-defined functions\n",
    "Defined-functions for building models"
   ]
  },
  {
   "cell_type": "code",
   "execution_count": 75,
   "metadata": {},
   "outputs": [],
   "source": [
    "def predict_F1(estimator, covariates, X, Y):\n",
    "    \"\"\"\n",
    "    This function takes estimator: classifier, covariates: array of features, \n",
    "    X: train set including labels, Y: test set including labels.\n",
    "    It computes and returns the best estimator, predictions and F1 score.\n",
    "    \"\"\"\n",
    "    train_covariates = X[covariates]\n",
    "    train_labels = X[\"label\"].astype(\"int\")\n",
    "    test_covariates = Y[covariates]\n",
    "    test_labels = Y[\"label\"].astype(\"int\")\n",
    "    \n",
    "    if (estimator == LogisticRegression):\n",
    "        lrc = estimator(class_weight = \"balanced\", random_state = 699, max_iter = 1000) # class_weight = \"balanced\" for unbalanced datasets\n",
    "        param_grid = {\"C\": [0.001, 0.01, 0.1, 1, 10, 100, 1000]}\n",
    "        lrc_grid = GridSearchCV(lrc, param_grid, scoring = \"f1_weighted\", cv = tscv)\n",
    "        lrc_grid.fit(train_covariates, train_labels);\n",
    "        best_lrc = lrc_grid.best_estimator_\n",
    "        # evaluating\n",
    "        lrc_predictions = best_lrc.fit(train_covariates, train_labels).predict(test_covariates)\n",
    "        F1_score = f1_score(test_labels, lrc_predictions, average = \"weighted\")\n",
    "        return (best_lrc, lrc_predictions, F1_score)\n",
    "    \n",
    "    elif (estimator == KNeighborsClassifier):\n",
    "        knn = estimator()\n",
    "        param_grid = {\"n_neighbors\": [1, 2, 3, 4, 5, 7, 8, 9, 10, 11, 12, 13, 14, 15],\n",
    "                      \"weights\": [\"uniform\", \"distance\"], \"p\": [1, 2, 5]}\n",
    "        knn_grid = GridSearchCV(knn, param_grid, scoring = \"f1_weighted\", cv = tscv)\n",
    "        knn_grid.fit(train_covariates, train_labels);\n",
    "        best_knn = knn_grid.best_estimator_\n",
    "        # evaluating\n",
    "        knn_predictions = best_knn.fit(train_covariates, train_labels).predict(test_covariates)\n",
    "        F1_score = f1_score(test_labels, knn_predictions, average = \"weighted\")\n",
    "        return (best_knn, knn_predictions, F1_score)\n",
    "    \n",
    "        \n",
    "    elif (estimator == RandomForestClassifier):\n",
    "        rfc = estimator(class_weight = \"balanced\", random_state = 699) # class_weight = \"balanced\" for unbalanced datasets\n",
    "        param_grid = {\"n_estimators\": [10, 20, 60, 100], \"criterion\": [\"gini\", \"entropy\"], \"max_depth\": [6, 8, 12, 16]}\n",
    "        rfc_grid = GridSearchCV(rfc, param_grid, scoring = \"f1_weighted\", cv = tscv)\n",
    "        rfc_grid.fit(train_covariates, train_labels);\n",
    "        best_rfc = rfc_grid.best_estimator_\n",
    "        # Evaluating\n",
    "        rfc_predictions = best_rfc.fit(train_covariates, train_labels).predict(test_covariates)\n",
    "        F1_score = f1_score(test_labels, rfc_predictions, average = \"weighted\")\n",
    "        return (best_rfc, rfc_predictions, F1_score)            \n",
    "        \n",
    "    elif (estimator == GradientBoostingClassifier):\n",
    "        gbc = estimator(random_state = 699) \n",
    "        param_grid = {\"n_estimators\": [10, 20, 60, 100], \"max_depth\": [6, 8, 12, 16]}\n",
    "        gbc_grid = GridSearchCV(gbc, param_grid, scoring = \"f1_weighted\", cv = tscv)\n",
    "        gbc_grid.fit(train_covariates, train_labels);\n",
    "        best_gbc = gbc_grid.best_estimator_\n",
    "        # Evaluating\n",
    "        gbc_predictions = best_gbc.fit(train_covariates, train_labels).predict(test_covariates)\n",
    "        F1_score = f1_score(test_labels, gbc_predictions, average = \"weighted\")\n",
    "        return (best_gbc, gbc_predictions, F1_score)"
   ]
  },
  {
   "cell_type": "code",
   "execution_count": 76,
   "metadata": {},
   "outputs": [],
   "source": [
    "def eval_cm(estimator, covariates, X, Y):\n",
    "    \"\"\"\n",
    "    This function takes estimator: classifier, covariates: array of features, \n",
    "    X: train set including labels, Y: test set including labels.\n",
    "    It shows F1 score, predictions and a normalized confusion matrix.\n",
    "    \"\"\"\n",
    "    #train_covariates = X[covariates]\n",
    "    #train_labels = X[\"label\"].astype(\"int\").astype(\"category\")\n",
    "    test_covariates = Y[covariates]\n",
    "    test_labels = Y[\"label\"].astype(\"int\")\n",
    "        \n",
    "    if (estimator == LogisticRegression):\n",
    "        best_lrc, lrc_predictions, F1_score = predict_F1(estimator, covariates, X, Y)        \n",
    "        print(\"F1 score:\", F1_score)\n",
    "        print(\"classes counts: \\n%s\" % np.array(np.unique(lrc_predictions, return_counts = True)))\n",
    "        classes = list(np.array(np.unique(lrc_predictions, return_counts = True))[0])\n",
    "        title =\"Logistic Regression normalized Confusion Matrix\"\n",
    "        disp = plot_confusion_matrix(best_lrc, test_covariates, test_labels, display_labels = classes,\n",
    "                                     cmap = plt.cm.Blues, normalize = \"pred\")\n",
    "        disp.ax_.set_title(title);\n",
    "    \n",
    "    elif (estimator == KNeighborsClassifier):\n",
    "        best_knn, knn_predictions, F1_score = predict_F1(estimator, covariates, X, Y)        \n",
    "        print(\"F1 score:\", F1_score)\n",
    "        print(\"classes counts: \\n%s\" % np.array(np.unique(knn_predictions, return_counts = True)))\n",
    "        classes = list(np.array(np.unique(knn_predictions, return_counts = True))[0])\n",
    "        title =\"Nearest Neighbors normalized Confusion Matrix\"\n",
    "        disp = plot_confusion_matrix(best_knn, test_covariates, test_labels, display_labels = classes,\n",
    "                                     cmap = plt.cm.Blues, normalize = \"pred\")\n",
    "        disp.ax_.set_title(title);\n",
    "        \n",
    "    elif (estimator == RandomForestClassifier):\n",
    "        best_rfc, rfc_predictions, F1_score = predict_F1(estimator, covariates, X, Y)\n",
    "        print(\"F1 score:\", F1_score)\n",
    "        print(\"classes counts: \\n%s\" % np.array(np.unique(rfc_predictions, return_counts = True)))\n",
    "        classes = list(np.array(np.unique(rfc_predictions, return_counts = True))[0])\n",
    "        title =\"Random Forest Classifier normalized Confusion Matrix\"\n",
    "        disp = plot_confusion_matrix(best_rfc, test_covariates, test_labels, display_labels = classes,\n",
    "                                     cmap = plt.cm.Blues, normalize = \"pred\")\n",
    "        disp.ax_.set_title(title);               \n",
    "        \n",
    "    elif (estimator == GradientBoostingClassifier):\n",
    "        best_gbc, gbc_predictions, F1_score = predict_F1(estimator, covariates, X, Y)\n",
    "        print(\"F1 score:\", F1_score)\n",
    "        print(\"classes counts: \\n%s\" % np.array(np.unique(gbc_predictions, return_counts = True)))\n",
    "        classes = list(np.array(np.unique(gbc_predictions, return_counts = True))[0])\n",
    "        title =\"Gradient Boosting Classifier normalized Confusion Matrix\"\n",
    "        disp = plot_confusion_matrix(best_gbc, test_covariates, test_labels, display_labels = classes,\n",
    "                                     cmap = plt.cm.Blues, normalize = \"pred\")\n",
    "        disp.ax_.set_title(title);"
   ]
  },
  {
   "cell_type": "code",
   "execution_count": 77,
   "metadata": {},
   "outputs": [],
   "source": [
    "def case_scoring(predicted, true):\n",
    "    score = []\n",
    "    matches = 0\n",
    "    if predicted.shape != true.shape:\n",
    "        print(\"predicted labels and true labels must have same size\")\n",
    "    else:\n",
    "        for x,y in zip(predicted, true):\n",
    "            if x == y:\n",
    "                matches += 1\n",
    "    score.append(np.round(matches/true.shape[0],4)) # Calculate the score for accuracy to 4 decimal places\n",
    "    return score[0]"
   ]
  },
  {
   "cell_type": "markdown",
   "metadata": {},
   "source": [
    "# Classifier"
   ]
  },
  {
   "cell_type": "markdown",
   "metadata": {},
   "source": [
    "# Random Forest Classifier"
   ]
  },
  {
   "cell_type": "code",
   "execution_count": 80,
   "metadata": {},
   "outputs": [
    {
     "name": "stdout",
     "output_type": "stream",
     "text": [
      "                         Model F1_score case accuracy\n",
      "0  LR with x, y, z raw signals  0.15933        0.1489\n"
     ]
    }
   ],
   "source": [
    "raw_covariates = [\"x\", \"y\", \"z\"] \n",
    "mod1_best, mod1_preds, mod1_F1  = predict_F1(LogisticRegression, raw_covariates, mod_train, mod_test)\n",
    "\n",
    "# Create a table that's going to store the results that we obtain as we're going to compare different models.\n",
    "mod_test_labels = np.array(mod_test[\"label\"].astype(int))\n",
    "results = pd.DataFrame(np.array([[\"LR with x, y, z raw signals\", np.round(mod1_F1, 5),\n",
    "                                  np.round(case_scoring(mod1_preds, mod_test_labels), 5)]]),\n",
    "                                  columns = [\"Model\", \"F1_score\", \"case accuracy\"])\n",
    "print(results)"
   ]
  },
  {
   "cell_type": "code",
   "execution_count": 81,
   "metadata": {},
   "outputs": [
    {
     "name": "stdout",
     "output_type": "stream",
     "text": [
      "  F1_score                        Model case accuracy\n",
      "0  0.15933  LR with x, y, z raw signals        0.1489\n",
      "1  0.56027  RF with x, y, z raw signals        0.4787\n"
     ]
    }
   ],
   "source": [
    "raw_covariates = [\"x\", \"y\", \"z\"] \n",
    "mod7_best, mod7_preds, mod7_F1  = predict_F1(RandomForestClassifier, raw_covariates, mod_train, mod_test)\n",
    "\n",
    "mod7 = pd.DataFrame({\"Model\":[\"RF with x, y, z raw signals\"], \"F1_score\":[mod7_F1], \n",
    "                     \"case accuracy\":[case_scoring(mod7_preds, mod_test_labels)]})\n",
    "results = pd.concat([results, np.round(mod7, 5)], sort = \"False\", ignore_index = True)\n",
    "print(results)"
   ]
  },
  {
   "cell_type": "code",
   "execution_count": 82,
   "metadata": {},
   "outputs": [
    {
     "name": "stdout",
     "output_type": "stream",
     "text": [
      "F1 score: 0.5602658730605218\n",
      "classes counts: \n",
      "[[ 1  2  3  4]\n",
      " [ 7 45 21 21]]\n"
     ]
    },
    {
     "data": {
      "image/png": "[encoded data removed]",
      "text/plain": [
       "<Figure size 432x288 with 2 Axes>"
      ]
     },
     "metadata": {
      "needs_background": "light"
     },
     "output_type": "display_data"
    }
   ],
   "source": [
    "eval_cm(RandomForestClassifier, raw_covariates, mod_train, mod_test)"
   ]
  },
  {
   "cell_type": "code",
   "execution_count": 83,
   "metadata": {},
   "outputs": [
    {
     "name": "stdout",
     "output_type": "stream",
     "text": [
      "  F1_score                                Model case accuracy\n",
      "0  0.15933          LR with x, y, z raw signals        0.1489\n",
      "1  0.56027          RF with x, y, z raw signals        0.4787\n",
      "2  0.70498  RF with means and energies features        0.6809\n"
     ]
    }
   ],
   "source": [
    "# Random Forest - Model 3.2\n",
    "tf_covariates = [\"x_mean\", \"y_mean\", \"z_mean\", \"x_E\", \"y_E\", \"z_E\"] \n",
    "mod8_best, mod8_preds, mod8_F1  = predict_F1(RandomForestClassifier, tf_covariates, mod_train, mod_test)\n",
    "\n",
    "mod8 = pd.DataFrame({\"Model\":[\"RF with means and energies features\"], \"F1_score\":[mod8_F1], \n",
    "                     \"case accuracy\":[case_scoring(mod8_preds, mod_test_labels)]})\n",
    "results = pd.concat([results, np.round(mod8, 5)], sort = \"False\", ignore_index = True)\n",
    "print(results)"
   ]
  },
  {
   "cell_type": "code",
   "execution_count": 84,
   "metadata": {},
   "outputs": [
    {
     "name": "stdout",
     "output_type": "stream",
     "text": [
      "F1 score: 0.7049828055879853\n",
      "classes counts: \n",
      "[[ 2  3  4]\n",
      " [64 21  9]]\n"
     ]
    },
    {
     "data": {
      "image/png": "[encoded data removed]",
      "text/plain": [
       "<Figure size 432x288 with 2 Axes>"
      ]
     },
     "metadata": {
      "needs_background": "light"
     },
     "output_type": "display_data"
    }
   ],
   "source": [
    "eval_cm(RandomForestClassifier, tf_covariates, mod_train, mod_test)"
   ]
  },
  {
   "cell_type": "code",
   "execution_count": 85,
   "metadata": {},
   "outputs": [
    {
     "name": "stdout",
     "output_type": "stream",
     "text": [
      "  F1_score                                Model case accuracy\n",
      "0  0.15933          LR with x, y, z raw signals        0.1489\n",
      "1  0.56027          RF with x, y, z raw signals        0.4787\n",
      "2  0.70498  RF with means and energies features        0.6809\n",
      "3  0.70182                 RF with all features        0.6702\n"
     ]
    }
   ],
   "source": [
    "# Random Forest - Model 3.3\n",
    "all_covariates = [\"x_mean\", \"y_mean\", \"z_mean\", \"x_sd\", \"y_sd\", \"z_sd\", \"m_mean\", \"m_sd\", \"x_E\", \"y_E\", \"z_E\"] \n",
    "mod9_best, mod9_preds, mod9_F1  = predict_F1(RandomForestClassifier, all_covariates, mod_train, mod_test)\n",
    "\n",
    "mod9 = pd.DataFrame({\"Model\":[\"RF with all features\"], \"F1_score\":[mod9_F1], \n",
    "                     \"case accuracy\":[case_scoring(mod9_preds, mod_test_labels)]})\n",
    "results = pd.concat([results, np.round(mod9, 5)], sort = \"False\", ignore_index = True)\n",
    "print(results)"
   ]
  },
  {
   "cell_type": "code",
   "execution_count": 86,
   "metadata": {},
   "outputs": [
    {
     "name": "stdout",
     "output_type": "stream",
     "text": [
      "F1 score: 0.7018164634286902\n",
      "classes counts: \n",
      "[[ 2  3  4]\n",
      " [65 19 10]]\n"
     ]
    },
    {
     "data": {
      "image/png": "[encoded data removed]",
      "text/plain": [
       "<Figure size 432x288 with 2 Axes>"
      ]
     },
     "metadata": {
      "needs_background": "light"
     },
     "output_type": "display_data"
    }
   ],
   "source": [
    "eval_cm(RandomForestClassifier, all_covariates, mod_train, mod_test)"
   ]
  },
  {
   "cell_type": "markdown",
   "metadata": {},
   "source": [
    "# Validation"
   ]
  },
  {
   "cell_type": "code",
   "execution_count": 89,
   "metadata": {},
   "outputs": [],
   "source": [
    "covariates = [\"x_mean\", \"y_mean\", \"z_mean\", \"x_sd\", \"y_sd\", \"z_sd\", \"m_mean\", \"m_sd\", \"x_E\", \"y_E\", \"z_E\"] \n",
    "train_covariates = train_ts[covariates]\n",
    "train_labels = train_ts[\"label\"].astype(\"int\")\n",
    "test_covariates = test_ts[covariates]\n",
    "\n",
    "tscv = TimeSeriesSplit(n_splits = 5) \n",
    "\n",
    "rfc = RandomForestClassifier(class_weight = \"balanced\", random_state = 699) # class_weight = \"balanced\" for unbalanced datasets\n",
    "param_grid = {\"n_estimators\": [10, 20, 60, 100], \"criterion\": [\"gini\", \"entropy\"], \"max_depth\": [6, 8, 12, 16]}\n",
    "rfc_grid = GridSearchCV(rfc, param_grid, scoring = \"f1_weighted\", cv = tscv)\n",
    "rfc_grid.fit(train_covariates, train_labels);\n",
    "best_rfc = rfc_grid.best_estimator_\n",
    "rfc_predictions = best_rfc.fit(train_covariates, train_labels).predict(test_covariates)"
   ]
  },
  {
   "cell_type": "code",
   "execution_count": 90,
   "metadata": {},
   "outputs": [
    {
     "name": "stdout",
     "output_type": "stream",
     "text": [
      "Predictions: \n",
      "[2, 2, 3, 2, 4, 2, 4, 4, 4, 3, 3, 4, 2, 2, 4, 4, 2, 4, 4, 4, 2, 3, 2, 2, 4, 3, 2, 2, 2, 2, 4, 2, 4, 3, 2, 1, 1, 1, 1, 1, 1, 1, 1, 1, 1, 1, 1, 1, 1, 1, 1, 1, 1, 3, 2, 3, 4, 3, 3, 3, 3, 2, 2, 2, 2, 3, 2, 3, 2, 2, 2, 2, 2, 3, 2, 2, 3, 3, 3, 3, 2, 2, 4, 3, 3, 3, 3, 3, 2, 2, 2, 2, 2, 3, 2, 2, 2, 2, 2, 2, 2, 2, 2, 2, 3, 2, 2, 2, 2, 2, 2, 2, 2, 2, 2, 2, 3, 3, 2, 2, 2, 2, 2, 2, 2]\n"
     ]
    }
   ],
   "source": [
    "print(\"Predictions: \\n%s\" % list(rfc_predictions))"
   ]
  },
  {
   "cell_type": "code",
   "execution_count": 94,
   "metadata": {},
   "outputs": [],
   "source": [
    "# save to csv file\n",
    "savetxt('predictions.csv', rfc_predictions, delimiter = \",\")"
   ]
  },
  {
   "cell_type": "markdown",
   "metadata": {},
   "source": [
    "# Total running time of the script"
   ]
  },
  {
   "cell_type": "code",
   "execution_count": 91,
   "metadata": {},
   "outputs": [
    {
     "name": "stdout",
     "output_type": "stream",
     "text": [
      "Elapsed time in seconds:  7738.25\n"
     ]
    }
   ],
   "source": [
    "# Total running time of the script\n",
    "runtime = default_timer() - st\n",
    "print(\"Elapsed time in seconds: \", round(runtime,2))"
   ]
  },
  {
   "cell_type": "markdown",
   "metadata": {},
   "source": [
    "# Conclusion\n",
    "I chose the Random Forest Classifier as it seems to be more robust by observing the results over all setups.\n",
    "\n",
    "Validation of this model shows a good classification of class 1 (walking) but mixed results for classes 2, 3 and 4. That's somewhat expected as we know that they are related activities (respectively walking, stairs down and stairs up) are similar in nature."
   ]
  },
  {
   "cell_type": "code",
   "execution_count": null,
   "metadata": {},
   "outputs": [],
   "source": []
  }
 ],
 "metadata": {
  "kernelspec": {
   "display_name": "Python 3",
   "language": "python",
   "name": "python3"
  },
  "language_info": {
   "codemirror_mode": {
    "name": "ipython",
    "version": 3
   },
   "file_extension": ".py",
   "mimetype": "text/x-python",
   "name": "python",
   "nbconvert_exporter": "python",
   "pygments_lexer": "ipython3",
   "version": "3.7.6"
  }
 },
 "nbformat": 4,
 "nbformat_minor": 4
}
